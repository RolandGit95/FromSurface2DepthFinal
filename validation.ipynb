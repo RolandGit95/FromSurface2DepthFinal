{
 "cells": [
  {
   "cell_type": "code",
   "execution_count": 2,
   "id": "e4cff0d2",
   "metadata": {},
   "outputs": [],
   "source": [
    "import numpy as np\n",
    "import glob\n",
    "import os"
   ]
  },
  {
   "cell_type": "code",
   "execution_count": 3,
   "id": "6bf9f523",
   "metadata": {},
   "outputs": [],
   "source": [
    "loss_dir = 'logs/losses'\n",
    "name = 'STLSTM*'\n",
    "\n",
    "files = glob.glob(os.path.join(loss_dir, name))"
   ]
  },
  {
   "cell_type": "code",
   "execution_count": 4,
   "id": "e53d0eaf",
   "metadata": {},
   "outputs": [
    {
     "data": {
      "text/plain": [
       "['logs/losses/STLSTM_t32_d_7_ep14_l1.npy']"
      ]
     },
     "execution_count": 4,
     "metadata": {},
     "output_type": "execute_result"
    }
   ],
   "source": [
    "files"
   ]
  },
  {
   "cell_type": "code",
   "execution_count": null,
   "id": "f5e51fa3",
   "metadata": {},
   "outputs": [],
   "source": []
  }
 ],
 "metadata": {
  "kernelspec": {
   "display_name": "Python [conda env:python37]",
   "language": "python",
   "name": "conda-env-python37-py"
  },
  "language_info": {
   "codemirror_mode": {
    "name": "ipython",
    "version": 3
   },
   "file_extension": ".py",
   "mimetype": "text/x-python",
   "name": "python",
   "nbconvert_exporter": "python",
   "pygments_lexer": "ipython3",
   "version": "3.7.11"
  }
 },
 "nbformat": 4,
 "nbformat_minor": 5
}
