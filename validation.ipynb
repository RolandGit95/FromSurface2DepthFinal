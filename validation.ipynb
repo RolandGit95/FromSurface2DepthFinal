{
 "cells": [
  {
   "cell_type": "code",
   "execution_count": 14,
   "id": "b5c8a964",
   "metadata": {},
   "outputs": [],
   "source": [
    "import numpy as np\n",
    "import seaborn as sns\n",
    "import pandas as pd\n",
    "import glob\n",
    "import os"
   ]
  },
  {
   "cell_type": "code",
   "execution_count": 3,
   "id": "20221626",
   "metadata": {},
   "outputs": [],
   "source": [
    "loss_dir = 'logs/losses'\n",
    "name = 'STLSTM*'\n",
    "\n",
    "files = glob.glob(os.path.join(loss_dir, name))"
   ]
  },
  {
   "cell_type": "code",
   "execution_count": 4,
   "id": "3dcb2f0d",
   "metadata": {},
   "outputs": [
    {
     "data": {
      "text/plain": [
       "['logs/losses/STLSTM_t32_d_7_ep14_l1.npy']"
      ]
     },
     "execution_count": 4,
     "metadata": {},
     "output_type": "execute_result"
    }
   ],
   "source": [
    "files"
   ]
  },
  {
   "cell_type": "code",
   "execution_count": 17,
   "id": "9818122b",
   "metadata": {},
   "outputs": [],
   "source": [
    "DF = pd.DataFrame()\n",
    "for file in files:\n",
    "    losses = np.load(file)\n",
    "    df = pd.DataFrame({'depth':np.repeat(0,len(losses)), 'loss':losses})\n",
    "    DF = DF.append(df)"
   ]
  },
  {
   "cell_type": "code",
   "execution_count": 18,
   "id": "78eca4d1",
   "metadata": {},
   "outputs": [
    {
     "data": {
      "image/png": "[encoded data removed]",
      "text/plain": [
       "<Figure size 432x288 with 1 Axes>"
      ]
     },
     "metadata": {},
     "output_type": "display_data"
    }
   ],
   "source": [
    "sns.set_theme(style=\"whitegrid\")\n",
    "\n",
    "ax = sns.barplot(x=\"depth\", y=\"loss\", data=DF)"
   ]
  },
  {
   "cell_type": "code",
   "execution_count": null,
   "id": "c61b31a5",
   "metadata": {},
   "outputs": [],
   "source": []
  }
 ],
 "metadata": {
  "kernelspec": {
   "display_name": "Python [conda env:python37]",
   "language": "python",
   "name": "conda-env-python37-py"
  },
  "language_info": {
   "codemirror_mode": {
    "name": "ipython",
    "version": 3
   },
   "file_extension": ".py",
   "mimetype": "text/x-python",
   "name": "python",
   "nbconvert_exporter": "python",
   "pygments_lexer": "ipython3",
   "version": "3.7.11"
  }
 },
 "nbformat": 4,
 "nbformat_minor": 5
}
